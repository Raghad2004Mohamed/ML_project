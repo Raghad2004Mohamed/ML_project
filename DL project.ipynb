{
 "cells": [
  {
   "cell_type": "code",
   "execution_count": null,
   "id": "05414566-ea12-438e-9ce2-184c77e585da",
   "metadata": {},
   "outputs": [],
   "source": [
    "## Project Research Question:\n",
    "#----------------------------------------------\n",
    "#Can we accurately classify EEG signals to detect epileptic seizures using deep learning techniques?"
   ]
  },
  {
   "cell_type": "code",
   "execution_count": null,
   "id": "53cbbd95-99ec-4795-9267-5b3ba748c813",
   "metadata": {},
   "outputs": [],
   "source": [
    "# Import libraries\n",
    "import pandas as pd\n",
    "import numpy as np\n",
    "import matplotlib.pyplot as plt\n",
    "import seaborn as sns\n",
    "!pip install tensorflow\n",
    "from sklearn.model_selection import train_test_split, GridSearchCV, cross_val_score\n",
    "from sklearn.preprocessing import StandardScaler, LabelEncoder\n",
    "from sklearn.feature_selection import SelectKBest, f_classif, RFE\n",
    "from sklearn.metrics import (accuracy_score, classification_report, \n",
    "                           confusion_matrix, roc_curve, auc, \n",
    "                           precision_recall_curve, average_precision_score)\n",
    "from sklearn.ensemble import (\n",
    "    RandomForestClassifier, AdaBoostClassifier, VotingClassifier\n",
    ")\n",
    "from sklearn.metrics import classification_report, confusion_matrix\n",
    "\n",
    "from sklearn.linear_model import LogisticRegression\n",
    "from sklearn.naive_bayes import GaussianNB\n",
    "from sklearn.neighbors import KNeighborsClassifier\n",
    "import tensorflow as tf\n",
    "from tensorflow.keras.models import Sequential\n",
    "from tensorflow.keras.layers import Dense, Dropout, LSTM\n",
    "from tensorflow.keras.utils import to_categorical\n",
    "from sklearn.model_selection import train_test_split\n",
    "from sklearn.preprocessing import StandardScaler\n",
    "from sklearn.metrics import classification_report, accuracy_score\n",
    "from tensorflow.keras.callbacks import EarlyStopping\n",
    "from sklearn.svm import SVC\n",
    "from sklearn.tree import DecisionTreeClassifier\n",
    "from sklearn.neighbors import KNeighborsClassifier\n",
    "from sklearn.ensemble import RandomForestClassifier, GradientBoostingClassifier\n",
    "from sklearn.linear_model import LogisticRegression\n",
    "from sklearn.pipeline import Pipeline\n",
    "from imblearn.over_sampling import SMOTE\n",
    "from collections import Counter\n",
    "import warnings\n",
    "warnings.filterwarnings('ignore')"
   ]
  },
  {
   "cell_type": "code",
   "execution_count": null,
   "id": "a44951b2-ec99-4d44-97e3-a1562d5ca930",
   "metadata": {},
   "outputs": [],
   "source": [
    "# Load dataset\n",
    "df = pd.read_csv('Epileptic Seizure Recognition.csv')"
   ]
  },
  {
   "cell_type": "code",
   "execution_count": null,
   "id": "db0c30cf-ecd9-4eee-a949-2d1aa1c01a4c",
   "metadata": {},
   "outputs": [],
   "source": [
    "print(df.info())"
   ]
  },
  {
   "cell_type": "code",
   "execution_count": null,
   "id": "79841ac1-9fa1-4fa5-9846-1deb43dd3891",
   "metadata": {},
   "outputs": [],
   "source": [
    "# Check first few rows\n",
    "df.head()"
   ]
  },
  {
   "cell_type": "code",
   "execution_count": null,
   "id": "96ba367f-b4f1-4cc3-a39c-f1c53b2db4e9",
   "metadata": {},
   "outputs": [],
   "source": [
    "#Drop the ID column\n",
    "df = df.drop(['Unnamed'], axis=1)"
   ]
  },
  {
   "cell_type": "code",
   "execution_count": null,
   "id": "09490060-7660-4703-b654-e46bee6487d2",
   "metadata": {},
   "outputs": [],
   "source": [
    "# Check missing values\n",
    "print(df.isnull().sum())"
   ]
  },
  {
   "cell_type": "code",
   "execution_count": null,
   "id": "aeab85a2-8da1-476a-8fe7-6da4afd2106a",
   "metadata": {},
   "outputs": [],
   "source": [
    "# Describe numerical features\n",
    "print(df.describe())"
   ]
  },
  {
   "cell_type": "code",
   "execution_count": null,
   "id": "60286914-70cc-408b-9835-9ce078b119c2",
   "metadata": {},
   "outputs": [],
   "source": [
    "#Handle missing values (replace NaN with column mean)\n",
    "df.fillna(df.mean(), inplace=True)"
   ]
  },
  {
   "cell_type": "code",
   "execution_count": null,
   "id": "0588bd73-1066-42a5-8d53-e01d3da0b143",
   "metadata": {},
   "outputs": [],
   "source": [
    "# Verify missing values are handled\n",
    "print(df.isnull().sum())"
   ]
  },
  {
   "cell_type": "code",
   "execution_count": null,
   "id": "79f42fe9-672b-4c1c-9f0f-f45b52a4359b",
   "metadata": {},
   "outputs": [],
   "source": [
    "# Assuming EEG data is in columns like 'X1', 'X2', ..., 'X178'\n",
    "signal_cols = [col for col in df.columns if col.startswith('X')]"
   ]
  },
  {
   "cell_type": "code",
   "execution_count": null,
   "id": "eb0f5bf1-e45b-4f50-8caf-c97880d780da",
   "metadata": {},
   "outputs": [],
   "source": [
    "# Create new feature: mean EEG signal\n",
    "df['mean_signal'] = df[signal_cols].mean(axis=1)"
   ]
  },
  {
   "cell_type": "code",
   "execution_count": null,
   "id": "4b93e21e-da29-40d6-a3e4-0765fa69a38b",
   "metadata": {},
   "outputs": [],
   "source": [
    "# histogram\n",
    "plt.figure(figsize=(8,6))\n",
    "sns.histplot(df[df.columns[30:50]], kde=True, bins=30)\n",
    "plt.title(f'Histogram of {df.columns[0]}')\n",
    "plt.show()"
   ]
  },
  {
   "cell_type": "code",
   "execution_count": null,
   "id": "c4c53b4e-bc84-4d0c-bf6e-c472b83bbed9",
   "metadata": {},
   "outputs": [],
   "source": [
    "# heatmap\n",
    "plt.figure(figsize=(100,50))\n",
    "corr = df.corr()\n",
    "sns.heatmap(corr, annot=True, fmt=\".2f\", cmap='coolwarm')\n",
    "plt.title('Correlation Heatmap')\n",
    "plt.show()"
   ]
  },
  {
   "cell_type": "code",
   "execution_count": null,
   "id": "e7ee1cd7-13aa-4f3d-b113-ce5c03e4c822",
   "metadata": {},
   "outputs": [],
   "source": [
    "#box plot\n",
    "plt.figure(figsize=(10, 6))\n",
    "sns.boxplot(data=df.iloc[:, 1:50])  \n",
    "plt.title(\"EEG Signal Distributions\")"
   ]
  },
  {
   "cell_type": "code",
   "execution_count": null,
   "id": "32b1a3e4-7a2b-42c0-b274-3dd74c3f1889",
   "metadata": {},
   "outputs": [],
   "source": [
    "#pca plot\n",
    "from sklearn.decomposition import PCA\n",
    "pca = PCA(n_components=2)\n",
    "X_pca = pca.fit_transform(df.drop('y', axis=1))\n",
    "sns.scatterplot(x=X_pca[:, 0], y=X_pca[:, 1], hue=df['y'])"
   ]
  },
  {
   "cell_type": "code",
   "execution_count": null,
   "id": "1841a1ad-a3ad-4f55-af81-c87fe880aa72",
   "metadata": {},
   "outputs": [],
   "source": [
    "#signals plot\n",
    "plt.figure(figsize=(12, 6))\n",
    "plt.plot(df.iloc[0, 1:50])  \n",
    "plt.title(\"Sample EEG Signal\")"
   ]
  },
  {
   "cell_type": "code",
   "execution_count": null,
   "id": "1ef3195f-836b-48da-be7f-60c6e2a37279",
   "metadata": {},
   "outputs": [],
   "source": [
    "# EEG feature columns\n",
    "eeg_columns = [col for col in df.columns if col.startswith(\"X\")]\n",
    "\n",
    "# Set up subplots(5 rows)\n",
    "fig, axes = plt.subplots(5, 1, figsize=(14, 16), sharex=True)\n",
    "\n",
    "for i, label in enumerate(range(1, 6)):\n",
    "    sample = df[df['y'] == label].sample(1)\n",
    "    axes[i].plot(eeg_columns, sample[eeg_columns].values.flatten(), label=f'Class y={label}')\n",
    "    axes[i].set_title(f'EEG Signal Sample - Diagnosis Class y={label}')\n",
    "    axes[i].set_ylabel(\"EEG Value\")\n",
    "    axes[i].legend()\n",
    "    axes[i].grid(True)\n",
    "\n",
    "# Common x-axis label\n",
    "plt.xlabel(\"EEG Channel (X1 to X178)\")\n",
    "plt.xticks(rotation=90)\n",
    "plt.tight_layout()\n",
    "plt.show()"
   ]
  },
  {
   "cell_type": "code",
   "execution_count": null,
   "id": "639c2e87-a4c2-4da9-a2a2-cb4cc79eee12",
   "metadata": {},
   "outputs": [],
   "source": [
    "# Target Variable Analysis (assuming 'y' is target)\n",
    "print(\"\\nTarget variable distribution:\")\n",
    "print(df['y'].value_counts(normalize=True))\n",
    "\n",
    "plt.figure(figsize=(8,6))\n",
    "sns.countplot(x='y', data=df)\n",
    "plt.title(\"Distribution of Target Variable\")\n",
    "plt.show()"
   ]
  },
  {
   "cell_type": "code",
   "execution_count": null,
   "id": "b63151d4-3928-4495-a114-1d0b52f2a93e",
   "metadata": {},
   "outputs": [],
   "source": [
    "#Feature Distributions (univariate)\n",
    "num_cols = df.select_dtypes(include=['int64','float64']).columns\n",
    "for col in num_cols[:5]:  # First 5 numerical features\n",
    "    plt.figure(figsize=(8,4))\n",
    "    sns.histplot(df[col], kde=True)\n",
    "    plt.title(f\"Distribution of {col}\")\n",
    "    plt.show()"
   ]
  },
  {
   "cell_type": "code",
   "execution_count": null,
   "id": "7c8af5a1-61fa-485e-81bb-c448ea42581f",
   "metadata": {},
   "outputs": [],
   "source": [
    "#Feature vs Target Analysis (bivariate)\n",
    "for col in num_cols[:3]:  # First 3 features vs target\n",
    "    plt.figure(figsize=(8,4))\n",
    "    sns.boxplot(x='y', y=col, data=df)\n",
    "    plt.title(f\"{col} by Target Class\")\n",
    "    plt.show()"
   ]
  },
  {
   "cell_type": "code",
   "execution_count": null,
   "id": "25ff251f-1f1f-4016-8809-ee1eeef6bbda",
   "metadata": {},
   "outputs": [],
   "source": [
    "#Outlier Detection\n",
    "for col in num_cols[:3]:\n",
    "    plt.figure(figsize=(8,4))\n",
    "    sns.boxplot(x=df[col])\n",
    "    plt.title(f\"Boxplot of {col}\")\n",
    "    plt.show()"
   ]
  },
  {
   "cell_type": "code",
   "execution_count": null,
   "id": "812bc3d9-9ac3-44a5-a749-4cb44d7f8b58",
   "metadata": {},
   "outputs": [],
   "source": [
    "# Assuming y=1 is seizure and others are non-seizure\n",
    "df['binary_label'] = df['y'].apply(lambda x: 1 if x == 1 else 0)"
   ]
  },
  {
   "cell_type": "code",
   "execution_count": null,
   "id": "9da44d50-144b-4a87-aa83-ef02044fac0e",
   "metadata": {},
   "outputs": [],
   "source": [
    "#Separate features and target\n",
    "X = df.drop('y', axis=1)  \n",
    "y = df['y'] - 1  # Convert classes from [1-5] to [0-4]\n",
    "y_cat = to_categorical(y, num_classes=5)"
   ]
  },
  {
   "cell_type": "code",
   "execution_count": null,
   "id": "38140a9f-dc67-4976-938d-bd7562a83d54",
   "metadata": {},
   "outputs": [],
   "source": [
    "X_train, X_test, y_train, y_test = train_test_split(X, y_cat, test_size=0.2, random_state=42)"
   ]
  },
  {
   "cell_type": "code",
   "execution_count": null,
   "id": "7e51db44-996f-417a-aab9-5c9d56f97950",
   "metadata": {},
   "outputs": [],
   "source": [
    "# Remove constant features\n",
    "X_non_constant = X.loc[:, (X != X.iloc[0]).any(axis=0)]"
   ]
  },
  {
   "cell_type": "code",
   "execution_count": null,
   "id": "34d984fc-9870-404b-a1cd-f7937eef67a4",
   "metadata": {},
   "outputs": [],
   "source": [
    "#Scale the features\n",
    "scaler = StandardScaler()\n",
    "X_train_scaled = scaler.fit_transform(X_train)\n",
    "X_test_scaled = scaler.transform(X_test)\n",
    "\n",
    "early_stop = EarlyStopping(monitor='val_loss', patience=5, restore_best_weights=True)"
   ]
  },
  {
   "cell_type": "code",
   "execution_count": null,
   "id": "83dd6452-e15c-450f-8657-df1b79f23dcc",
   "metadata": {},
   "outputs": [],
   "source": [
    "from tensorflow.keras.models import Sequential \n",
    "from tensorflow.keras.layers import Dense\n",
    "from tensorflow.keras.layers import Dropout\n",
    "from sklearn.metrics import accuracy_score, classification_report, confusion_matrix\n",
    "\n",
    "# ANN Model\n",
    "ann = Sequential([\n",
    "    Dense(256, input_shape=(X_train_scaled.shape[1],), activation='relu'),\n",
    "    Dropout(0.4),\n",
    "    Dense(128, activation='relu'),\n",
    "    Dense(5, activation='softmax')\n",
    "])\n",
    "\n",
    "ann.compile(optimizer='adam', loss='categorical_crossentropy', metrics=['accuracy'])\n",
    "\n",
    "history_ann = ann.fit(\n",
    "    X_train_scaled, y_train,\n",
    "    epochs=30,\n",
    "    batch_size=32,\n",
    "    validation_split=0.2,\n",
    "    callbacks=[early_stop],\n",
    "    verbose=1\n",
    ")\n",
    "\n",
    "y_pred_ann = ann.predict(X_test_scaled)\n",
    "print(\"\\n[ANN] Accuracy:\", accuracy_score(y_test.argmax(axis=1), y_pred_ann.argmax(axis=1)))\n",
    "print(classification_report(y_test.argmax(axis=1), y_pred_ann.argmax(axis=1)))"
   ]
  },
  {
   "cell_type": "code",
   "execution_count": null,
   "id": "a70e65d1-223c-4b06-855d-9ac89b88fa31",
   "metadata": {},
   "outputs": [],
   "source": [
    "# ANN Training Plots\n",
    "plt.figure(figsize=(12, 5))\n",
    "plt.subplot(1, 2, 1)\n",
    "plt.plot(history_ann.history['accuracy'], label='Train Accuracy')\n",
    "plt.plot(history_ann.history['val_accuracy'], label='Val Accuracy')\n",
    "plt.title('ANN Accuracy Over Epochs')\n",
    "plt.xlabel('Epochs'); plt.ylabel('Accuracy'); plt.legend()\n",
    "\n",
    "plt.subplot(1, 2, 2)\n",
    "plt.plot(history_ann.history['loss'], label='Train Loss')\n",
    "plt.plot(history_ann.history['val_loss'], label='Val Loss')\n",
    "plt.title('ANN Loss Over Epochs')\n",
    "plt.xlabel('Epochs'); plt.ylabel('Loss'); plt.legend()\n",
    "plt.tight_layout()\n",
    "plt.show()"
   ]
  },
  {
   "cell_type": "code",
   "execution_count": null,
   "id": "649ea1e9-d1d3-47d8-8c38-6bc6a487cf03",
   "metadata": {},
   "outputs": [],
   "source": [
    "from tensorflow.keras.layers import LSTM\n",
    "\n",
    "# LSTM Model\n",
    "X_train_lstm = X_train_scaled.reshape((X_train_scaled.shape[0], 1, X_train_scaled.shape[1]))\n",
    "X_test_lstm = X_test_scaled.reshape((X_test_scaled.shape[0], 1, X_test_scaled.shape[1]))\n",
    "\n",
    "lstm = Sequential([\n",
    "    LSTM(64, input_shape=(1, X_train_scaled.shape[1])),\n",
    "    Dropout(0.4),\n",
    "    Dense(5, activation='softmax')\n",
    "])\n",
    "\n",
    "lstm.compile(optimizer='adam', loss='categorical_crossentropy', metrics=['accuracy'])\n",
    "\n",
    "history_lstm = lstm.fit(\n",
    "    X_train_lstm, y_train,\n",
    "    epochs=30,\n",
    "    batch_size=32,\n",
    "    validation_split=0.2,\n",
    "    callbacks=[early_stop],\n",
    "    verbose=1\n",
    ")\n",
    "\n",
    "y_pred_lstm = lstm.predict(X_test_lstm)\n",
    "print(\"\\n[LSTM] Accuracy:\", accuracy_score(y_test.argmax(axis=1), y_pred_lstm.argmax(axis=1)))\n",
    "print(classification_report(y_test.argmax(axis=1), y_pred_lstm.argmax(axis=1)))"
   ]
  },
  {
   "cell_type": "code",
   "execution_count": null,
   "id": "6b831a17-160c-4a72-8572-86950a0fb6de",
   "metadata": {},
   "outputs": [],
   "source": [
    "# LSTM Training Plots\n",
    "plt.figure(figsize=(12, 5))\n",
    "plt.subplot(1, 2, 1)\n",
    "plt.plot(history_lstm.history['accuracy'], label='Train Accuracy')\n",
    "plt.plot(history_lstm.history['val_accuracy'], label='Val Accuracy')\n",
    "plt.title('LSTM Accuracy Over Epochs')\n",
    "plt.xlabel('Epochs'); plt.ylabel('Accuracy'); plt.legend()\n",
    "\n",
    "plt.subplot(1, 2, 2)\n",
    "plt.plot(history_lstm.history['loss'], label='Train Loss')\n",
    "plt.plot(history_lstm.history['val_loss'], label='Val Loss')\n",
    "plt.title('LSTM Loss Over Epochs')\n",
    "plt.xlabel('Epochs'); plt.ylabel('Loss'); plt.legend()\n",
    "plt.tight_layout()\n",
    "plt.show()"
   ]
  },
  {
   "cell_type": "code",
   "execution_count": null,
   "id": "3bcbe7b8-041f-4094-8e16-c0f25c733ae2",
   "metadata": {},
   "outputs": [],
   "source": [
    "import seaborn as sns\n",
    "# ANN Confusion Matrix\n",
    "cm_ann = confusion_matrix(y_test.argmax(axis=1), y_pred_ann.argmax(axis=1))\n",
    "plt.figure(figsize=(6, 5))\n",
    "sns.heatmap(cm_ann, annot=True, fmt=\"d\", cmap=\"Blues\", xticklabels=range(1,6), yticklabels=range(1,6))\n",
    "plt.title(\"Confusion Matrix - ANN\")\n",
    "plt.xlabel(\"Predicted\")\n",
    "plt.ylabel(\"Actual\")\n",
    "plt.show()"
   ]
  },
  {
   "cell_type": "code",
   "execution_count": null,
   "id": "cc0ab98d-289a-44f5-971c-57ca23ee6fe5",
   "metadata": {},
   "outputs": [],
   "source": [
    "# LSTM Confusion Matrix\n",
    "cm_lstm = confusion_matrix(y_test.argmax(axis=1), y_pred_lstm.argmax(axis=1))\n",
    "plt.figure(figsize=(6, 5))\n",
    "sns.heatmap(cm_lstm, annot=True, fmt=\"d\", cmap=\"Greens\", xticklabels=range(1,6), yticklabels=range(1,6))\n",
    "plt.title(\"Confusion Matrix - LSTM\")\n",
    "plt.xlabel(\"Predicted\")\n",
    "plt.ylabel(\"Actual\")\n",
    "plt.show()"
   ]
  },
  {
   "cell_type": "code",
   "execution_count": null,
   "id": "cb796f08-5241-4a04-9187-9818ecc33e2f",
   "metadata": {},
   "outputs": [],
   "source": [
    "# Choose one sample from each class: seizure (y=1) and non-seizure (y!=1)\n",
    "sample_seizure = df[df['y'] == 1].sample(1)\n",
    "sample_non_seizure = df[df['y'] != 1].sample(1)\n",
    "\n",
    "# Extract only EEG features (X1 to X178)\n",
    "eeg_columns = [col for col in df.columns if col.startswith(\"X\")]\n",
    "plt.figure(figsize=(12, 6))\n",
    "\n",
    "# Plot seizure sample\n",
    "plt.plot(eeg_columns,\n",
    "         sample_seizure[eeg_columns].values.flatten(),\n",
    "         label='Seizure (y=1)',\n",
    "         color='red')\n",
    "\n",
    "# Plot non-seizure sample\n",
    "plt.plot(eeg_columns,\n",
    "         sample_non_seizure[eeg_columns].values.flatten(),\n",
    "         label=f'Non-Seizure (y={sample_non_seizure[\"y\"].values[0]})',\n",
    "         color='blue')\n",
    "\n",
    "plt.title('EEG Signal of One Seizure and One Non-Seizure Sample')\n",
    "plt.xlabel('EEG Channel')\n",
    "plt.ylabel('EEG Value')\n",
    "plt.xticks(rotation=90)\n",
    "plt.legend()\n",
    "plt.grid(True)\n",
    "plt.tight_layout()\n",
    "plt.show()"
   ]
  }
 ],
 "metadata": {
  "kernelspec": {
   "display_name": "Python 3 (ipykernel)",
   "language": "python",
   "name": "python3"
  },
  "language_info": {
   "codemirror_mode": {
    "name": "ipython",
    "version": 3
   },
   "file_extension": ".py",
   "mimetype": "text/x-python",
   "name": "python",
   "nbconvert_exporter": "python",
   "pygments_lexer": "ipython3",
   "version": "3.12.3"
  }
 },
 "nbformat": 4,
 "nbformat_minor": 5
}
